{
 "cells": [
  {
   "cell_type": "code",
   "execution_count": 23,
   "metadata": {},
   "outputs": [],
   "source": [
    "import requests, json\n"
   ]
  },
  {
   "cell_type": "markdown",
   "metadata": {},
   "source": [
    "Testing sample endpoint:"
   ]
  },
  {
   "cell_type": "code",
   "execution_count": 24,
   "metadata": {},
   "outputs": [
    {
     "name": "stdout",
     "output_type": "stream",
     "text": [
      "{'SeniorCitizen': 0.0, 'Partner': 1.0, 'Dependents': 0.0, 'tenure': 1.0, 'PhoneService': 0.0, 'MultipleLines': 2.0, 'InternetService': 1.0, 'OnlineSecurity': 0.0, 'OnlineBackup': 1.0, 'DeviceProtection': 0.0, 'TechSupport': 0.0, 'StreamingTV': 0.0, 'StreamingMovies': 0.0, 'Contract': 0.0, 'PaperlessBilling': 1.0, 'PaymentMethod': 0.0, 'MonthlyCharges': 29.85}\n"
     ]
    }
   ],
   "source": [
    "\"\"\"Test the /churn/sample endpoint\"\"\"\n",
    "response = requests.get(\"http://127.0.0.1:5000/churn/sample\")\n",
    "print(response.json())"
   ]
  },
  {
   "cell_type": "markdown",
   "metadata": {},
   "source": [
    "Testing the explain endpoint:"
   ]
  },
  {
   "cell_type": "code",
   "execution_count": 25,
   "metadata": {},
   "outputs": [
    {
     "name": "stdout",
     "output_type": "stream",
     "text": [
      "Explanation: \n",
      "    This dataset is used to predict customer churn. Here is an explanation of each field:\n",
      "    \n",
      "    - SeniorCitizen: Indicates if the customer is a senior citizen. 0 = No, 1 = Yes.\n",
      "    - Partner: Indicates if the customer has a partner. 0 = No, 1 = Yes.\n",
      "    - Dependents: Indicates if the customer has dependents. 0 = No, 1 = Yes.\n",
      "    - tenure: The number of months the customer has stayed with the company.\n",
      "    - PhoneService: Indicates if the customer has phone service. 0 = No, 1 = Yes, 2 = No phone service.\n",
      "    - MultipleLines: Indicates if the customer has multiple lines. 0 = No, 1 = Yes, 2 = No phone service.\n",
      "    - InternetService: Indicates the type of internet service. 0 = No, 1 = DSL, 2 = Fiber optic, 3 = No internet service.\n",
      "    - OnlineSecurity: Indicates if the customer has online security. 0 = No, 1 = Yes, 2 = No internet service.\n",
      "    - OnlineBackup: Indicates if the customer has online backup. 0 = No, 1 = Yes, 2 = No internet service.\n",
      "    - DeviceProtection: Indicates if the customer has device protection. 0 = No, 1 = Yes, 2 = No internet service.\n",
      "    - TechSupport: Indicates if the customer has tech support. 0 = No, 1 = Yes, 2 = No internet service.\n",
      "    - StreamingTV: Indicates if the customer has streaming TV. 0 = No, 1 = Yes, 2 = No internet service.\n",
      "    - StreamingMovies: Indicates if the customer has streaming movies. 0 = No, 1 = Yes, 2 = No internet service.\n",
      "    - Contract: Indicates the contract type. 0 = Month-to-month, 1 = One year, 2 = Two year.\n",
      "    - PaperlessBilling: Indicates if the customer has paperless billing. 0 = No, 1 = Yes.\n",
      "    - PaymentMethod: Indicates the payment method. 0 = Electronic check, 1 = Mailed check, 2 = Bank transfer (automatic), 3 = Credit card (automatic).\n",
      "    - MonthlyCharges: The amount charged to the customer monthly.\n",
      "    \n"
     ]
    }
   ],
   "source": [
    "\"\"\"Test the /churn/explain endpoint\"\"\"\n",
    "response = requests.get(\"http://127.0.0.1:5000/churn/explain\")\n",
    "explanation = response.text\n",
    "print(\"Explanation:\", explanation)"
   ]
  },
  {
   "cell_type": "markdown",
   "metadata": {},
   "source": [
    "Testing the evaluate endpoint with 5 different inputs:"
   ]
  },
  {
   "cell_type": "code",
   "execution_count": 34,
   "metadata": {},
   "outputs": [
    {
     "name": "stdout",
     "output_type": "stream",
     "text": [
      "No Churn\n",
      "No Churn\n",
      "Churn\n",
      "No Churn\n",
      "Churn\n"
     ]
    }
   ],
   "source": [
    "\"\"\"Test the /churn/evaluate endpoint with different inputs\"\"\"\n",
    "data1= {\"SeniorCitizen\": 0, \"Partner\": 1, \"Dependents\": 0, \"tenure\": 1, \"PhoneService\": 1, \"MultipleLines\": 0, \"InternetService\": 1, \"OnlineSecurity\": 0, \"OnlineBackup\": 1, \"DeviceProtection\": 0, \"TechSupport\": 0, \"StreamingTV\": 0, \"StreamingMovies\": 0, \"Contract\": 0, \"PaperlessBilling\": 1, \"PaymentMethod\": 0, \"MonthlyCharges\": 29.85}\n",
    "data2= {\"SeniorCitizen\": 0, \"Partner\": 0, \"Dependents\": 0, \"tenure\": 34, \"PhoneService\": 1, \"MultipleLines\": 0, \"InternetService\": 1, \"OnlineSecurity\": 1, \"OnlineBackup\": 0, \"DeviceProtection\": 1, \"TechSupport\": 0, \"StreamingTV\": 0, \"StreamingMovies\": 0, \"Contract\": 1, \"PaperlessBilling\": 0, \"PaymentMethod\": 1, \"MonthlyCharges\": 56.95}\n",
    "data3= {\"SeniorCitizen\": 0, \"Partner\": 0, \"Dependents\": 0, \"tenure\": 2, \"PhoneService\": 1, \"MultipleLines\": 0, \"InternetService\": 2, \"OnlineSecurity\": 1, \"OnlineBackup\": 1, \"DeviceProtection\": 0, \"TechSupport\": 0, \"StreamingTV\": 0, \"StreamingMovies\": 0, \"Contract\": 0, \"PaperlessBilling\": 1, \"PaymentMethod\": 1, \"MonthlyCharges\": 53.85}\n",
    "data4= {\"SeniorCitizen\": 1, \"Partner\": 1, \"Dependents\": 1, \"tenure\": 45, \"PhoneService\": 1, \"MultipleLines\": 2, \"InternetService\": 1, \"OnlineSecurity\": 1, \"OnlineBackup\": 1, \"DeviceProtection\": 1, \"TechSupport\": 1, \"StreamingTV\": 1, \"StreamingMovies\": 2, \"Contract\": 1, \"PaperlessBilling\": 0, \"PaymentMethod\": 2, \"MonthlyCharges\": 42.30}\n",
    "data5= {\"SeniorCitizen\": 0, \"Partner\": 0, \"Dependents\": 0, \"tenure\": 2, \"PhoneService\": 1, \"MultipleLines\": 0, \"InternetService\": 2, \"OnlineSecurity\": 0, \"OnlineBackup\": 0, \"DeviceProtection\": 0, \"TechSupport\": 0, \"StreamingTV\": 0, \"StreamingMovies\": 0, \"Contract\": 0, \"PaperlessBilling\": 1, \"PaymentMethod\": 0, \"MonthlyCharges\": 70.70}\n",
    "\n",
    "response = requests.post(\"http://127.0.0.1:5000/churn/evaluate\", json=data1)\n",
    "result1 = response.json()\n",
    "print(result1)\n",
    "\n",
    "response = requests.post(\"http://127.0.0.1:5000/churn/evaluate\", json=data2)\n",
    "result2 = response.json()\n",
    "print(result2)\n",
    "\n",
    "response = requests.post(\"http://127.0.0.1:5000/churn/evaluate\", json=data3)\n",
    "result3 = response.json()\n",
    "print(result3)\n",
    "\n",
    "response = requests.post(\"http://127.0.0.1:5000/churn/evaluate\", json=data4)\n",
    "result4 = response.json()\n",
    "print(result4)\n",
    "\n",
    "response = requests.post(\"http://127.0.0.1:5000/churn/evaluate\", json=data5)\n",
    "result5 = response.json()\n",
    "print(result5)\n"
   ]
  }
 ],
 "metadata": {
  "kernelspec": {
   "display_name": "Python 3",
   "language": "python",
   "name": "python3"
  },
  "language_info": {
   "codemirror_mode": {
    "name": "ipython",
    "version": 3
   },
   "file_extension": ".py",
   "mimetype": "text/x-python",
   "name": "python",
   "nbconvert_exporter": "python",
   "pygments_lexer": "ipython3",
   "version": "3.11.7"
  }
 },
 "nbformat": 4,
 "nbformat_minor": 2
}
